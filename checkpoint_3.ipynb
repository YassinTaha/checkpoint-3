{
  "nbformat": 4,
  "nbformat_minor": 0,
  "metadata": {
    "colab": {
      "name": "checkpoint 3.ipynb",
      "provenance": [],
      "collapsed_sections": []
    },
    "kernelspec": {
      "name": "python3",
      "display_name": "Python 3"
    },
    "language_info": {
      "name": "python"
    }
  },
  "cells": [
    {
      "cell_type": "code",
      "source": [
        "#question 1\n",
        "def multiplyList(mylist) :\n",
        "  result = 1\n",
        "  for x in mylist:\n",
        "    result = result * x\n",
        "  return result\n",
        "\n",
        "list1 = [2, 3, 6]\n",
        "print(multiplyList(list1))"
      ],
      "metadata": {
        "colab": {
          "base_uri": "https://localhost:8080/"
        },
        "id": "a4zdjcDYVWg_",
        "outputId": "82bd721d-792c-457d-c1e6-418e9b73d1ae"
      },
      "execution_count": null,
      "outputs": [
        {
          "output_type": "stream",
          "name": "stdout",
          "text": [
            "36\n"
          ]
        }
      ]
    },
    {
      "cell_type": "code",
      "source": [
        "#question 2, used w3r\n",
        "def last(n):\n",
        "\treturn n[-1]\n",
        "\n",
        "def sort(tuples):\n",
        "\treturn sorted(tuples, key=last)\n",
        "\n",
        "a=[(2, 5), (1, 2), (4, 4), (2, 3), (2, 1)]\n",
        "print(\"Sorted:\")\n",
        "print(sort(a))\n"
      ],
      "metadata": {
        "colab": {
          "base_uri": "https://localhost:8080/"
        },
        "id": "1CE396oUWAbQ",
        "outputId": "95c15913-d25d-41c7-9a2e-c08740ecd2cf"
      },
      "execution_count": null,
      "outputs": [
        {
          "output_type": "stream",
          "name": "stdout",
          "text": [
            "Sorted:\n",
            "[(2, 1), (1, 2), (2, 3), (4, 4), (2, 5)]\n"
          ]
        }
      ]
    },
    {
      "cell_type": "code",
      "source": [
        "#question 3, used w3r\n",
        "from collections import Counter\n",
        "d1 = {'a': 100, 'b': 200, 'c':300}\n",
        "d2 = {'a': 300, 'b': 200, 'd':400}\n",
        "d = Counter(d1) + Counter(d2)\n",
        "print(d)"
      ],
      "metadata": {
        "colab": {
          "base_uri": "https://localhost:8080/"
        },
        "id": "gTEGC9E5XCTK",
        "outputId": "0d4f4524-1059-4908-987b-55be2027f0d0"
      },
      "execution_count": null,
      "outputs": [
        {
          "output_type": "stream",
          "name": "stdout",
          "text": [
            "Counter({'a': 400, 'b': 400, 'd': 400, 'c': 300})\n"
          ]
        }
      ]
    },
    {
      "cell_type": "code",
      "source": [
        "#question 4, couldnt make"
      ],
      "metadata": {
        "id": "su1oGIkIYOHq"
      },
      "execution_count": null,
      "outputs": []
    },
    {
      "cell_type": "code",
      "source": [
        "#question 5, THIS CHECKPOINT IS PRETTY HARD\n",
        "price = [('item1', '12.20'), ('item2', '15.10'), ('item3', '24.5')]\n",
        "print( sorted(price, key=lambda x: float(x[1]), reverse=True))"
      ],
      "metadata": {
        "id": "x09OKHZxbwGL"
      },
      "execution_count": null,
      "outputs": []
    }
  ]
}